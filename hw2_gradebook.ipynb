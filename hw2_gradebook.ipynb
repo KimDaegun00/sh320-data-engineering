{
 "cells": [
  {
   "cell_type": "code",
   "execution_count": 1,
   "metadata": {},
   "outputs": [],
   "source": [
    "import numpy as np"
   ]
  },
  {
   "cell_type": "code",
   "execution_count": 2,
   "metadata": {},
   "outputs": [],
   "source": [
    "subjects = [\"physics\", \"calculus\", \"poetry\", \"history\"]"
   ]
  },
  {
   "cell_type": "code",
   "execution_count": 3,
   "metadata": {},
   "outputs": [],
   "source": [
    "grades = [98, 97, 85, 88]"
   ]
  },
  {
   "cell_type": "code",
   "execution_count": 4,
   "metadata": {},
   "outputs": [],
   "source": [
    "gradebook = [\n",
    "    [\"physics\", 98],\n",
    "    [\"calculus\", 97],\n",
    "    [\"poetry\", 85],\n",
    "    [\"history\", 88]\n",
    "]\n"
   ]
  },
  {
   "cell_type": "code",
   "execution_count": 17,
   "metadata": {},
   "outputs": [
    {
     "data": {
      "text/plain": [
       "[['physics', 98],\n",
       " ['calculus', 97],\n",
       " ['poetry', 'Pass', 'Pass'],\n",
       " ['history', 88],\n",
       " ['computer science', 100],\n",
       " ['visual arts', 93],\n",
       " ['visual arts', 98],\n",
       " ['visual arts', 93]]"
      ]
     },
     "execution_count": 17,
     "metadata": {},
     "output_type": "execute_result"
    }
   ],
   "source": [
    "print(gradebook)"
   ]
  },
  {
   "cell_type": "code",
   "execution_count": 6,
   "metadata": {},
   "outputs": [],
   "source": [
    "gradebook.append([\"computer science\", 100])"
   ]
  },
  {
   "cell_type": "code",
   "execution_count": 15,
   "metadata": {},
   "outputs": [
    {
     "data": {
      "text/plain": [
       "[['physics', 98],\n",
       " ['calculus', 97],\n",
       " ['poetry', 'Pass', 'Pass'],\n",
       " ['history', 88],\n",
       " ['computer science', 100],\n",
       " ['visual arts', 93],\n",
       " ['visual arts', 98],\n",
       " ['visual arts', 93]]"
      ]
     },
     "execution_count": 15,
     "metadata": {},
     "output_type": "execute_result"
    }
   ],
   "source": [
    "gradebook.append([\"visual arts\", 93])\n",
    "\n",
    "print(gradebook)"
   ]
  },
  {
   "cell_type": "code",
   "execution_count": 9,
   "metadata": {},
   "outputs": [],
   "source": [
    "gradebook[-1][1] += 5  # 마지막 항목이 visual arts이므로 [-1] 사용"
   ]
  },
  {
   "cell_type": "code",
   "execution_count": 10,
   "metadata": {},
   "outputs": [],
   "source": [
    "gradebook[2].remove(85)"
   ]
  },
  {
   "cell_type": "code",
   "execution_count": 12,
   "metadata": {},
   "outputs": [
    {
     "name": "stdout",
     "output_type": "stream",
     "text": [
      "\n",
      "점수 수정 및 Pass/Fail 반영 후 gradebook:\n",
      "[['physics', 98], ['calculus', 97], ['poetry', 'Pass', 'Pass'], ['history', 88], ['computer science', 100], ['visual arts', 93], ['visual arts', 98]]\n"
     ]
    }
   ],
   "source": [
    "gradebook[2].append(\"Pass\")\n",
    "\n",
    "print(\"\\n점수 수정 및 Pass/Fail 반영 후 gradebook:\")\n",
    "print(gradebook)"
   ]
  },
  {
   "cell_type": "code",
   "execution_count": 14,
   "metadata": {},
   "outputs": [
    {
     "name": "stdout",
     "output_type": "stream",
     "text": [
      "\n",
      "전체 gradebook:\n",
      "[['politics', 80], ['latin', 96], ['dance', 97], ['architecture', 65], ['physics', 98], ['calculus', 97], ['poetry', 'Pass', 'Pass'], ['history', 88], ['computer science', 100], ['visual arts', 93], ['visual arts', 98]]\n"
     ]
    }
   ],
   "source": [
    "last_semester_gradebook = [[\"politics\", 80], [\"latin\", 96], [\"dance\", 97], [\"architecture\", 65]]\n",
    "full_gradebook = last_semester_gradebook + gradebook\n",
    "\n",
    "print(\"\\n전체 gradebook:\")\n",
    "print(full_gradebook)"
   ]
  }
 ],
 "metadata": {
  "kernelspec": {
   "display_name": "base",
   "language": "python",
   "name": "python3"
  },
  "language_info": {
   "codemirror_mode": {
    "name": "ipython",
    "version": 3
   },
   "file_extension": ".py",
   "mimetype": "text/x-python",
   "name": "python",
   "nbconvert_exporter": "python",
   "pygments_lexer": "ipython3",
   "version": "3.12.4"
  }
 },
 "nbformat": 4,
 "nbformat_minor": 2
}
